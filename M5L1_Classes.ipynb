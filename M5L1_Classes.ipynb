{
  "nbformat": 4,
  "nbformat_minor": 0,
  "metadata": {
    "colab": {
      "provenance": [],
      "authorship_tag": "ABX9TyMH7qf24xI8IwnHDXfOD9w4",
      "include_colab_link": true
    },
    "kernelspec": {
      "name": "python3",
      "display_name": "Python 3"
    },
    "language_info": {
      "name": "python"
    }
  },
  "cells": [
    {
      "cell_type": "markdown",
      "metadata": {
        "id": "view-in-github",
        "colab_type": "text"
      },
      "source": [
        "<a href=\"https://colab.research.google.com/github/amilafr/algo-python-pro/blob/main/M5L1_Classes.ipynb\" target=\"_parent\"><img src=\"https://colab.research.google.com/assets/colab-badge.svg\" alt=\"Open In Colab\"/></a>"
      ]
    },
    {
      "cell_type": "code",
      "execution_count": null,
      "metadata": {
        "id": "n6n3U1VEXuCL"
      },
      "outputs": [],
      "source": [
        "class Mobil(): #bikin class\n",
        "  #constructor --> fungsi yang otomatis dipanggil waktu kita bikin objek\n",
        "  def __init__(self, merk, warna, tipe, kursi = 4):\n",
        "    self.merk = merk\n",
        "    self.warna = warna\n",
        "    self.tipe = tipe\n",
        "    self.kursi = kursi\n",
        "\n",
        "  #action\n",
        "  def print_info(self):\n",
        "    print('Merk:', self.merk)\n",
        "    print('Warna', self.warna)\n",
        "\n",
        "  def jalan(self):\n",
        "    print('jalaannn')"
      ]
    },
    {
      "cell_type": "code",
      "source": [
        "mobil_kuning = Mobil('toyota', 'kuning', 'manual') #bikin objek\n",
        "\n",
        "mobil_kuning.print_info()\n",
        "mobil_kuning.jalan()"
      ],
      "metadata": {
        "colab": {
          "base_uri": "https://localhost:8080/"
        },
        "id": "D0uo88cJkLFk",
        "outputId": "59cf178d-cf1c-4429-f14b-00c243ae5e19"
      },
      "execution_count": null,
      "outputs": [
        {
          "output_type": "stream",
          "name": "stdout",
          "text": [
            "Merk: toyota\n",
            "Warna kuning\n",
            "jalaannn\n"
          ]
        }
      ]
    },
    {
      "cell_type": "code",
      "source": [
        "mobil_merah = Mobil('suzuki', 'merah', 'matic')\n",
        "\n",
        "mobil_merah.print_info()"
      ],
      "metadata": {
        "colab": {
          "base_uri": "https://localhost:8080/"
        },
        "id": "TgloJEzrkiXU",
        "outputId": "076b3584-ba9f-473a-d1a8-f97746bb73eb"
      },
      "execution_count": null,
      "outputs": [
        {
          "output_type": "stream",
          "name": "stdout",
          "text": [
            "Merk: suzuki\n",
            "Warna merah\n"
          ]
        }
      ]
    }
  ]
}