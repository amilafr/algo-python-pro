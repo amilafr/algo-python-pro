{
  "nbformat": 4,
  "nbformat_minor": 0,
  "metadata": {
    "colab": {
      "provenance": [],
      "authorship_tag": "ABX9TyPDgj56XH3RP2W//HknRS3R",
      "include_colab_link": true
    },
    "kernelspec": {
      "name": "python3",
      "display_name": "Python 3"
    },
    "language_info": {
      "name": "python"
    }
  },
  "cells": [
    {
      "cell_type": "markdown",
      "metadata": {
        "id": "view-in-github",
        "colab_type": "text"
      },
      "source": [
        "<a href=\"https://colab.research.google.com/github/amilafr/algo-python-pro/blob/main/M3L2_Functions_Continued.ipynb\" target=\"_parent\"><img src=\"https://colab.research.google.com/assets/colab-badge.svg\" alt=\"Open In Colab\"/></a>"
      ]
    },
    {
      "cell_type": "code",
      "execution_count": null,
      "metadata": {
        "colab": {
          "base_uri": "https://localhost:8080/"
        },
        "id": "rLaORn6hFoOB",
        "outputId": "ee95cfe6-0558-4412-8f00-479ed47ee96e"
      },
      "outputs": [
        {
          "output_type": "stream",
          "name": "stdout",
          "text": [
            "Masukkan nilai:40\n",
            "Hasil nilainya Tidak Lulus\n"
          ]
        }
      ],
      "source": [
        "def get_data():\n",
        "  # read data dari input\n",
        "  score = int(input('Masukkan nilai:'))\n",
        "  # calculation\n",
        "  if score > 50:\n",
        "    result = 'Luluuusss'\n",
        "  else:\n",
        "    result = 'Tidak Lulus'\n",
        "  return result\n",
        "\n",
        "def print_result(result):\n",
        "  print('Hasil nilainya', result)\n",
        "\n",
        "# hasil = get_data()\n",
        "\n",
        "print_result(get_data())"
      ]
    },
    {
      "cell_type": "code",
      "source": [
        "def get_data():\n",
        "  # read data dari input\n",
        "  score = int(input('Masukkan nilai:'))\n",
        "  # calculation\n",
        "  if score > 50:\n",
        "    result = 'Luluuusss'\n",
        "  else:\n",
        "    result = 'Tidak Lulus'\n",
        "  return result\n",
        "\n",
        "def print_result():\n",
        "  hasil = get_data() # panggil function get_data()\n",
        "  print(hasil)"
      ],
      "metadata": {
        "id": "1np2FdxAG2Am"
      },
      "execution_count": null,
      "outputs": []
    },
    {
      "cell_type": "code",
      "source": [
        "print_result()"
      ],
      "metadata": {
        "colab": {
          "base_uri": "https://localhost:8080/"
        },
        "id": "2dqMqA8-HEGq",
        "outputId": "6c202d9c-0c7e-49d3-9dfe-0f2608b8ca16"
      },
      "execution_count": null,
      "outputs": [
        {
          "output_type": "stream",
          "name": "stdout",
          "text": [
            "Masukkan nilai:80\n",
            "Luluuusss\n"
          ]
        }
      ]
    },
    {
      "cell_type": "code",
      "source": [
        "def calc_bmi(weight, height): #weight in kg, height in m\n",
        "   index = weight / (height * height)\n",
        "   return index\n",
        "\n",
        "def check_bmi(weight, height):\n",
        "   index = calc_bmi(weight, height)\n",
        "   if index <= 18.5:\n",
        "       print('Your BMI:', index, '- Underweight!')\n",
        "   elif index > 18.5 and index <= 25:\n",
        "       print('Your BMI:', index, '- Normal weight!')\n",
        "   else:\n",
        "       print('Your BMI:', index, '- Overweight')\n",
        "\n",
        "weight = float(input('Enter weight (in kg):'))\n",
        "height = float(input('Enter height (in m):'))\n",
        "\n",
        "check_bmi(weight, height)\n"
      ],
      "metadata": {
        "id": "_qcwhw8tHSAG"
      },
      "execution_count": null,
      "outputs": []
    }
  ]
}