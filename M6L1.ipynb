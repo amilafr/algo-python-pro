{
  "nbformat": 4,
  "nbformat_minor": 0,
  "metadata": {
    "colab": {
      "provenance": [],
      "authorship_tag": "ABX9TyM2UrnSZMqXNBNuKem71nLR",
      "include_colab_link": true
    },
    "kernelspec": {
      "name": "python3",
      "display_name": "Python 3"
    },
    "language_info": {
      "name": "python"
    }
  },
  "cells": [
    {
      "cell_type": "markdown",
      "metadata": {
        "id": "view-in-github",
        "colab_type": "text"
      },
      "source": [
        "<a href=\"https://colab.research.google.com/github/amilafr/algo-python-pro/blob/main/M6L1.ipynb\" target=\"_parent\"><img src=\"https://colab.research.google.com/assets/colab-badge.svg\" alt=\"Open In Colab\"/></a>"
      ]
    },
    {
      "cell_type": "markdown",
      "source": [
        "# Game development in a professional development environment\n",
        "\n",
        "[PPT M6L1](https://docs.google.com/presentation/d/1p1qGxEt2xL_nI9dmu0K-d6j6tF5BuUjTLQW88WBTWKE/edit?usp=sharing)"
      ],
      "metadata": {
        "id": "mdd3eDsHJLbL"
      }
    },
    {
      "cell_type": "markdown",
      "source": [
        "Code to try on VSCode"
      ],
      "metadata": {
        "id": "DIolA_WpJTAz"
      }
    },
    {
      "cell_type": "code",
      "execution_count": null,
      "metadata": {
        "id": "QqNIAHuvJInt"
      },
      "outputs": [],
      "source": [
        "# your code is here\n",
        "from pygame import *\n",
        "\n",
        "win_width = 700\n",
        "win_height = 500\n",
        "window = display.set_mode((win_width, win_height))\n",
        "display.set_caption('My First Game')\n",
        "\n",
        "# bg_color = (255, 255, 255)\n",
        "# window.fill(bg_color)\n",
        "\n",
        "# load background image\n",
        "pic = transform.scale(image.load('galaxy_2.jpg'), (win_width, win_height))\n",
        "\n",
        "'''card class --> same with rectangle'''\n",
        "class Card(sprite.Sprite):\n",
        "    # constructor\n",
        "    def __init__(self, width, height, x, y, color):\n",
        "        super().__init__()\n",
        "        self.rect = Rect(x, y, width, height)\n",
        "        self.fill_color = color\n",
        "\n",
        "    # placing object on the screen\n",
        "    def draw(self):\n",
        "        draw.rect(window, self.fill_color, self.rect)\n",
        "\n",
        "class Pic(sprite.Sprite):\n",
        "    def __init__(self, img, width, height, x, y):\n",
        "        super().__init__()\n",
        "        self.image = transform.scale(image.load(img), (width, height))\n",
        "        self.rect = self.image.get_rect()\n",
        "        self.rect.x = x # x coordinate\n",
        "        self.rect.y = y # y coordinate\n",
        "\n",
        "    # placing object on the screen\n",
        "    def reset(self):\n",
        "        window.blit(self.image, (self.rect.x, self.rect.y))\n",
        "\n",
        "GREEN = (0, 255, 0)\n",
        "\n",
        "player1 = Card(90, 80, 100, 200, GREEN)\n",
        "player2 = Pic('pac-1.png', 100, 100, 500, 200)\n",
        "\n",
        "run = True\n",
        "\n",
        "while run:\n",
        "    time.delay(50)\n",
        "    window.blit(pic, (0, 0))\n",
        "\n",
        "    player1.draw()\n",
        "    player2.reset()\n",
        "\n",
        "    for e in event.get():\n",
        "        if e.type == QUIT:\n",
        "            run = False\n",
        "\n",
        "    display.update()\n"
      ]
    }
  ]
}