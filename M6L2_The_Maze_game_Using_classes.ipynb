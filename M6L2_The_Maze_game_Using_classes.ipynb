{
  "nbformat": 4,
  "nbformat_minor": 0,
  "metadata": {
    "colab": {
      "provenance": [],
      "authorship_tag": "ABX9TyN0GLzILzsEcTTwi/WdQA/P",
      "include_colab_link": true
    },
    "kernelspec": {
      "name": "python3",
      "display_name": "Python 3"
    },
    "language_info": {
      "name": "python"
    }
  },
  "cells": [
    {
      "cell_type": "markdown",
      "metadata": {
        "id": "view-in-github",
        "colab_type": "text"
      },
      "source": [
        "<a href=\"https://colab.research.google.com/github/amilafr/algo-python-pro/blob/main/M6L2_The_Maze_game_Using_classes.ipynb\" target=\"_parent\"><img src=\"https://colab.research.google.com/assets/colab-badge.svg\" alt=\"Open In Colab\"/></a>"
      ]
    },
    {
      "cell_type": "markdown",
      "source": [
        "# The 'Maze' game. Using classes\n",
        "\n",
        "[PPT M6L2](https://docs.google.com/presentation/d/1BBZzVmUThq4PdrDHXGt7g0MwD84A43IVhTBkC41mDfA/edit?usp=sharing)\n",
        "\n",
        "**Images sources:**\n",
        "\n",
        "*   [flaticon.com/ru](flaticon.com/ru) — icons;\n",
        "*   [thenounproject.com](thenounproject.com) — icons;\n",
        "*   [freepik.com](freepik.com) — images;\n",
        "*   [pixabay.com](pixabay.com) — images."
      ],
      "metadata": {
        "id": "4RLFExaNoDk_"
      }
    },
    {
      "cell_type": "code",
      "execution_count": null,
      "metadata": {
        "id": "4PMMlP6nn8SJ"
      },
      "outputs": [],
      "source": [
        "# Create your game in this file!\n",
        "from pygame import *\n",
        "\n",
        "'''create window'''\n",
        "window = display.set_mode((700, 500))\n",
        "display.set_caption('Maze Game')\n",
        "\n",
        "# fill background with color\n",
        "bg_color = (194, 236, 254)\n",
        "# window.fill(bg_color)\n",
        "\n",
        "'''sprite class'''\n",
        "class GameSprite(sprite.Sprite):\n",
        "    def __init__(self, img, width, height, x, y):\n",
        "        sprite.Sprite.__init__(self)\n",
        "        self.image = transform.scale(image.load(img), (width, height))\n",
        "\n",
        "        self.rect = self.image.get_rect()\n",
        "        self.rect.x = x # x coordinate\n",
        "        self.rect.y = y # y coordinate\n",
        "\n",
        "    # placing object on the screen\n",
        "    def reset(self):\n",
        "        window.blit(self.image, (self.rect.x, self.rect.y))\n",
        "\n",
        "'''player class'''\n",
        "class Player(GameSprite):\n",
        "    def __init__(self, img, width, height, x, y, x_speed, y_speed):\n",
        "        GameSprite.__init__(self, img, width, height, x, y)\n",
        "        self.x_speed = x_speed\n",
        "        self.y_speed = y_speed\n",
        "\n",
        "    # movement\n",
        "    def update(self):\n",
        "        self.rect.x += self.x_speed\n",
        "        self.rect.y += self.y_speed\n",
        "\n",
        "'''instance objects'''\n",
        "wall1 = GameSprite(img='platform2.png', width=450, height=50, x=100, y=250)\n",
        "player = Player('hero.png', 80, 80, 50, 400, 0, 0)\n",
        "\n",
        "'''game loop'''\n",
        "run = True\n",
        "while run:\n",
        "    time.delay(50)\n",
        "    window.fill(bg_color)\n",
        "\n",
        "    # handling events\n",
        "    for e in event.get():\n",
        "        # quit\n",
        "        if e.type == QUIT:\n",
        "            run = False\n",
        "        # click keyboard button\n",
        "        elif e.type == KEYDOWN:\n",
        "           if e.key == K_LEFT:\n",
        "               player.x_speed = -5\n",
        "           elif e.key == K_RIGHT:\n",
        "               player.x_speed = 5\n",
        "           elif e.key == K_UP:\n",
        "               player.y_speed = -5\n",
        "           elif e.key == K_DOWN:\n",
        "               player.y_speed = 5\n",
        "        elif e.type == KEYUP:\n",
        "            if e.key == K_LEFT:\n",
        "                player.x_speed = 0\n",
        "            elif e.key == K_RIGHT:\n",
        "                player.x_speed = 0\n",
        "            elif e.key == K_UP:\n",
        "                player.y_speed = 0\n",
        "            elif e.key == K_DOWN:\n",
        "                player.y_speed = 0\n",
        "\n",
        "    # all objects\n",
        "    wall1.reset()\n",
        "    player.reset()\n",
        "\n",
        "    # # player movement\n",
        "    player.update()\n",
        "\n",
        "    display.update()\n"
      ]
    }
  ]
}