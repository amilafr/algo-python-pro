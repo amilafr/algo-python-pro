{
  "nbformat": 4,
  "nbformat_minor": 0,
  "metadata": {
    "colab": {
      "provenance": [],
      "authorship_tag": "ABX9TyMstgmC67P/XYOzc5Qen+Le",
      "include_colab_link": true
    },
    "kernelspec": {
      "name": "python3",
      "display_name": "Python 3"
    },
    "language_info": {
      "name": "python"
    }
  },
  "cells": [
    {
      "cell_type": "markdown",
      "metadata": {
        "id": "view-in-github",
        "colab_type": "text"
      },
      "source": [
        "<a href=\"https://colab.research.google.com/github/amilafr/algo-python-pro/blob/main/M6L2_The_Maze_game_Using_classes.ipynb\" target=\"_parent\"><img src=\"https://colab.research.google.com/assets/colab-badge.svg\" alt=\"Open In Colab\"/></a>"
      ]
    },
    {
      "cell_type": "markdown",
      "source": [
        "# The 'Maze' game. Using classes\n",
        "\n",
        "[PPT M6L2](https://docs.google.com/presentation/d/1BBZzVmUThq4PdrDHXGt7g0MwD84A43IVhTBkC41mDfA/edit?usp=sharing)\n",
        "\n",
        "**Images sources:**\n",
        "\n",
        "*   [flaticon.com/ru](flaticon.com/ru) — icons;\n",
        "*   [thenounproject.com](thenounproject.com) — icons;\n",
        "*   [freepik.com](freepik.com) — images;\n",
        "*   [pixabay.com](pixabay.com) — images."
      ],
      "metadata": {
        "id": "4RLFExaNoDk_"
      }
    },
    {
      "cell_type": "code",
      "execution_count": null,
      "metadata": {
        "id": "4PMMlP6nn8SJ"
      },
      "outputs": [],
      "source": []
    }
  ]
}