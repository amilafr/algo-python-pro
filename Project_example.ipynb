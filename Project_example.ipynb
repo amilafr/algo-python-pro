{
  "nbformat": 4,
  "nbformat_minor": 0,
  "metadata": {
    "colab": {
      "provenance": [],
      "authorship_tag": "ABX9TyNOGM3InCM/SiDhAJ3A6tc8",
      "include_colab_link": true
    },
    "kernelspec": {
      "name": "python3",
      "display_name": "Python 3"
    },
    "language_info": {
      "name": "python"
    }
  },
  "cells": [
    {
      "cell_type": "markdown",
      "metadata": {
        "id": "view-in-github",
        "colab_type": "text"
      },
      "source": [
        "<a href=\"https://colab.research.google.com/github/amilafr/algo-python-pro/blob/main/Project_example.ipynb\" target=\"_parent\"><img src=\"https://colab.research.google.com/assets/colab-badge.svg\" alt=\"Open In Colab\"/></a>"
      ]
    },
    {
      "cell_type": "markdown",
      "source": [
        "## main_app.py"
      ],
      "metadata": {
        "id": "KewLQQjOKY-Z"
      }
    },
    {
      "cell_type": "code",
      "execution_count": null,
      "metadata": {
        "id": "8OqfDj_yKVgW"
      },
      "outputs": [],
      "source": [
        "# import package\n",
        "from PyQt5.QtCore import Qt\n",
        "from PyQt5.QtWidgets import (\n",
        "       QApplication, QWidget,\n",
        "       QHBoxLayout, QVBoxLayout,\n",
        "       QGroupBox, QRadioButton,\n",
        "       QPushButton, QLabel, QListWidget, QLineEdit)\n",
        "\n",
        "from texts import *\n",
        "from second import SecondWin\n",
        "\n",
        "'''Main Window --> Run from this file'''\n",
        "\n",
        "class MainWin(QWidget):\n",
        "    # constructor\n",
        "    def __init__(self):\n",
        "        super().__init__()\n",
        "        # graphic elements\n",
        "        self.initUI()\n",
        "        # connect to other window\n",
        "        self.connects()\n",
        "        # window setting\n",
        "        self.set_appear()\n",
        "        # start/show this window\n",
        "        self.show()\n",
        "\n",
        "    # create graphic elements\n",
        "    def initUI(self):\n",
        "        # elements\n",
        "        self.txt_title = QLabel(txt_title1)\n",
        "        self.txt_long = QLabel(long_txt)\n",
        "        self.btn = QPushButton('Next')\n",
        "\n",
        "        # layout\n",
        "        self.v_layout = QVBoxLayout()\n",
        "        self.v_layout.addWidget(self.txt_title, alignment=Qt.AlignCenter)\n",
        "        self.v_layout.addWidget(self.txt_long, alignment=Qt.AlignCenter)\n",
        "        self.v_layout.addWidget(self.btn, alignment=Qt.AlignCenter)\n",
        "\n",
        "        # set layout\n",
        "        self.setLayout(self.v_layout)\n",
        "\n",
        "    def next_window(self):\n",
        "        self.sw = SecondWin()\n",
        "        self.hide() # hide this window\n",
        "\n",
        "    # connect to other window\n",
        "    def connects(self):\n",
        "        self.btn.clicked.connect(self.next_window)\n",
        "\n",
        "    # window setting\n",
        "    def set_appear(self):\n",
        "        self.setWindowTitle(title_main) # title\n",
        "        self.resize(win_width, win_height) # size\n",
        "        self.move(win_x, win_y) # position\n",
        "\n",
        "# run the app\n",
        "app = QApplication([])\n",
        "mw = MainWin()\n",
        "app.exec_()\n",
        "\n"
      ]
    },
    {
      "cell_type": "markdown",
      "source": [
        "## second.py"
      ],
      "metadata": {
        "id": "ARUFttOjKcAQ"
      }
    },
    {
      "cell_type": "code",
      "source": [
        "# import package\n",
        "from PyQt5.QtCore import Qt\n",
        "from PyQt5.QtWidgets import (\n",
        "       QApplication, QWidget,\n",
        "       QHBoxLayout, QVBoxLayout,\n",
        "       QGroupBox, QRadioButton,\n",
        "       QPushButton, QLabel, QListWidget, QLineEdit)\n",
        "\n",
        "from texts import *\n",
        "# from main import MainWin\n",
        "\n",
        "'''Second Window'''\n",
        "\n",
        "class SecondWin(QWidget):\n",
        "    # constructor\n",
        "    def __init__(self):\n",
        "        super().__init__()\n",
        "        # graphic elements\n",
        "        self.initUI()\n",
        "        # connect to other window\n",
        "        self.connects()\n",
        "        # window setting\n",
        "        self.set_appear()\n",
        "        # start/show this window\n",
        "        self.show()\n",
        "\n",
        "    # create graphic elements\n",
        "    def initUI(self):\n",
        "        # elements\n",
        "        self.txt = QLabel(txt_title2)\n",
        "        self.btn = QPushButton('Back')\n",
        "\n",
        "        # layout\n",
        "        self.v_layout = QVBoxLayout()\n",
        "        self.v_layout.addWidget(self.txt, alignment=Qt.AlignLeft)\n",
        "        self.v_layout.addWidget(self.btn, alignment=Qt.AlignCenter)\n",
        "\n",
        "        # set layout\n",
        "        self.setLayout(self.v_layout)\n",
        "\n",
        "    # next window\n",
        "    def next_window(self):\n",
        "        # self.mw = MainWin()\n",
        "        self.hide()\n",
        "\n",
        "    # connect to other window\n",
        "    def connects(self):\n",
        "        self.btn.clicked.connect(self.next_window)\n",
        "\n",
        "    # window setting\n",
        "    def set_appear(self):\n",
        "        self.setWindowTitle(title_second) # title\n",
        "        self.resize(win_width, win_height) # size\n",
        "        self.move(win_x, win_y) # position"
      ],
      "metadata": {
        "id": "6Ksw3EpqKdkH"
      },
      "execution_count": null,
      "outputs": []
    },
    {
      "cell_type": "markdown",
      "source": [
        "## texts.py"
      ],
      "metadata": {
        "id": "iozjalK7KmSV"
      }
    },
    {
      "cell_type": "code",
      "source": [
        "win_x, win_y = 200, 100\n",
        "win_width, win_height = 1000, 600\n",
        "\n",
        "title_main = 'Main Window'\n",
        "title_second = 'Second Window'\n",
        "title_third = 'Third Window'\n",
        "\n",
        "txt_title1 = 'Welcome to this app!'\n",
        "txt_title2 = 'This is second window'\n",
        "\n",
        "long_txt = '''\n",
        "Lorem Ipsum is simply dummy text of the printing and typesetting industry.\n",
        "Lorem Ipsum has been the industry's standard dummy text ever since the 1500s,\n",
        "when an unknown printer took a galley of type and scrambled it to make a type specimen book.\n",
        "It has survived not only five centuries, but also the leap into electronic typesetting.\n",
        "'''"
      ],
      "metadata": {
        "id": "C3PdvnqCKnwo"
      },
      "execution_count": null,
      "outputs": []
    }
  ]
}